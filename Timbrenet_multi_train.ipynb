{
 "cells": [
  {
   "cell_type": "code",
   "execution_count": 1,
   "metadata": {},
   "outputs": [
    {
     "data": {
      "text/plain": [
       "True"
      ]
     },
     "execution_count": 1,
     "metadata": {},
     "output_type": "execute_result"
    }
   ],
   "source": [
    "import os\n",
    "import random\n",
    "import IPython\n",
    "import datetime\n",
    "import numpy as np\n",
    "import tensorflow as tf\n",
    "import matplotlib.pyplot as plt\n",
    "from lib.model import TimbreNet_Model\n",
    "from lib.specgrams_helper import SpecgramsHelper\n",
    "from tensorboard.plugins.hparams import api as hp\n",
    "\n",
    "os.environ[\"CUDA_VISIBLE_DEVICES\"]=\"1\"\n",
    "tf.test.is_gpu_available()"
   ]
  },
  {
   "cell_type": "code",
   "execution_count": null,
   "metadata": {},
   "outputs": [],
   "source": [
    "MODEL_TYPE = hp.HParam('Model type', hp.Discrete(['normal', ]))\n",
    "'''\n",
    "                                                  'labeled_out_notes', \n",
    "                                                  'labeled_out_notes_and_vol', \n",
    "                                                  'labeled_in_and_out_notes',\n",
    "                                                  'labeled_in_and_out_notes_and_vol']))\n",
    "'''\n",
    "\n",
    "LEARNING_RATE = hp.HParam('Learning rate', hp.Discrete([3e-5]))\n",
    "LATENT_DIMS = hp.HParam('Latent dim', hp.Discrete([32,16]))#,8,4,2]))\n",
    "LOSS_TYPES = hp.HParam('Loss type', hp.Discrete(['mse_fixed_mean','sigma_fixed']))#'mse', 'mse_fixed_sum', 'sigma']))\n",
    "R_LOSS_FACTOR = hp.HParam('R loss facor', hp.Discrete([10,100,1]))#,1000,0.1]))\n",
    "#LABLE_LOSS_FACTOR = hp.HParam('Lable loss factor', hp.Discrete([10,1,0.1]))\n",
    "ENC_DROPOUT_RATE = hp.HParam('Encoder dropot rate', hp.Discrete([0.0,0.1,0.2]))#,0.4]))\n",
    "ENC_BATCH_NORM = hp.HParam('Encoder use batch norm', hp.Discrete([True]))#,,False]))\n",
    "DEC_BATCH_NORM = hp.HParam('Decoder use batch norm', hp.Discrete([False]))#,,True]))\n",
    "\n",
    "\n",
    "EPOCHS = 200\n",
    "BATCH_SIZE = 10\n",
    "PRINT_EVERY_N_BATCHES = 10\n",
    "INITIAL_EPOCH = 0\n",
    "SEED = 21\n",
    "\n",
    "NUM_TRAIN_IMAGES = 100\n",
    "NUM_TEST_IMAGES  = 100\n"
   ]
  }
 ],
 "metadata": {
  "kernelspec": {
   "display_name": "Python 3",
   "language": "python",
   "name": "python3"
  },
  "language_info": {
   "codemirror_mode": {
    "name": "ipython",
    "version": 3
   },
   "file_extension": ".py",
   "mimetype": "text/x-python",
   "name": "python",
   "nbconvert_exporter": "python",
   "pygments_lexer": "ipython3",
   "version": "3.6.9"
  }
 },
 "nbformat": 4,
 "nbformat_minor": 4
}
